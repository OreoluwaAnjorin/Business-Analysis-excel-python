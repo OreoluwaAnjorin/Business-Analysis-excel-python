import pandas as pd    # for data manipulation
import matplotlib.pyplot as plt # for static plots
import seaborn as sns # for enhanced visualizations
import numpy as np  # for np.mean
import plotly.express as px  # for interactive plots

# Set styles
plt.style.use('seaborn-v0_8')
sns.set_palette("pastel")
pd.set_option('display.float_format', '{:,.2f}'.format)

# Excel sheets
excel_path = r"C:\Users\anjor\Documents\batch 888\EXCEL PORTFOLIO SHOWCASE.xlsx"
sheets = {
    "employees": pd.read_excel(excel_path, sheet_name="EMPLOYEE DATASET"),
    "ad_sales": pd.read_excel(excel_path, sheet_name="AD BUDGET VS SALES"),
    "loans": pd.read_excel(excel_path, sheet_name="LOANS AND INTEREST"),
    "products": pd.read_excel(excel_path, sheet_name="PRICE DISCOUNT")
}

# Data overview
for name, df in sheets.items():
    print(f"\n🔍 {name.upper()} - Shape: {df.shape}")
print(df.head(2))

# Clean data
emp_df = sheets["employees"].dropna()
emp_df["Salary (USD)"] = emp_df["Salary (USD)"].astype(float)

# Plot: Avg Salary by Role
plt.figure(figsize=(10, 6))
sns.barplot(
    data=emp_df, 
    x="Role", 
    y="Salary (USD)", 
    estimator=np.mean,
    ci=None,
    order=["Analyst", "Consultant", "Coordinator", "Engineer", "Manager"]
)
plt.title("Average Salary by Role (USD)", fontsize=14)
plt.xticks(rotation=45)
plt.tight_layout()
plt.savefig("avg_salary_by_role.png", dpi=300, bbox_inches="tight")

# Plot: Experience vs. Salary
fig = px.scatter(
    emp_df, 
    x="Years of Experience", 
    y="Salary (USD)", 
    color="Department",
    hover_name="Employee Name",
    title="Experience vs. Salary by Department"
)
fig.write_html("exp_vs_salary.html")  # Interactive Plotly chart

# Calculation of ROI
ad_df = sheets["ad_sales"].copy()
ad_df["ROI (%)"] = (ad_df["Sales (USD)"] - ad_df["Ad Budget (USD)"]) / ad_df["Ad Budget (USD)"] * 100

# Plot: Top 10 Companies by ROI
top_roi = ad_df.groupby("Company Name")["ROI (%)"].mean().nlargest(10)
plt.figure(figsize=(10, 6))
top_roi.sort_values().plot(kind="barh", color="skyblue")
plt.title("Top 10 Companies by ROI (%)", fontsize=14)
plt.xlabel("ROI (%)")
plt.savefig("top_roi_companies.png", dpi=300)

# Plot: Budget vs. Sales
fig = px.scatter(
    ad_df, 
    x="Ad Budget (USD)", 
    y="Sales (USD)", 
    trendline="ols",
    title="Ad Budget vs. Sales (Linear Regression)"
)
fig.write_html("budget_vs_sales.html")

# Calculate total repayment
loan_df = sheets["loans"].copy()
loan_df["Total Repayment"] = loan_df["Loan Amount (USD)"] + loan_df["Interest (USD)"]

# Plot: Interest Rate Distribution
plt.figure(figsize=(10, 6))
sns.histplot(loan_df["Interest Rate (%)"], bins=20, kde=True)
plt.title("Distribution of Loan Interest Rates", fontsize=14)
plt.savefig("interest_rate_dist.png", dpi=300)

# Plot: Repayment by Term
fig = px.box(
    loan_df, 
    x="Time(Years)", 
    y="Total Repayment", 
    color="Time(Years)",
    title="Total Repayment by Loan Term (Years)"
)
fig.write_html("repayment_by_term.html")

prod_df = sheets["products"].copy()
prod_df["Revenue Loss (USD)"] = prod_df["Total Revenue(USD)"] - prod_df["Total Revenue with New Discounted Price(USD)"]

# Plot: Discount Impact on Revenue
plt.figure(figsize=(12, 6))
sns.barplot(
    data=prod_df.groupby("Product Name")["Revenue Loss (USD)"].sum().reset_index(),
    x="Product Name",
    y="Revenue Loss (USD)",
)
plt.title("Total Revenue Loss Due to Discounts", fontsize=14)
plt.xticks(rotation=45)
plt.savefig("discount_impact.png", dpi=300, bbox_inches="tight")

